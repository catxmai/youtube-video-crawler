{
 "cells": [
  {
   "cell_type": "code",
   "execution_count": 1,
   "id": "844c664b",
   "metadata": {},
   "outputs": [],
   "source": [
    "import requests\n",
    "\n",
    "from keys import MBFC_API_KEY, MBFC_API_URL \n",
    "\n",
    "headers = {\n",
    "    'Authorization': f'Bearer {MBFC_API_KEY}'\n",
    "}\n",
    "response = requests.get(MBFC_API_URL, headers=headers)"
   ]
  },
  {
   "cell_type": "code",
   "execution_count": 4,
   "id": "f599696f",
   "metadata": {},
   "outputs": [],
   "source": [
    "# response = response.json()\n",
    "# import json\n",
    "\n",
    "# with open('mbfc/all_mbfc.json', 'w') as f:\n",
    "#     json.dump(response, f, ensure_ascii=True)"
   ]
  },
  {
   "cell_type": "code",
   "execution_count": 14,
   "id": "b9aaedb0",
   "metadata": {},
   "outputs": [],
   "source": [
    "# 'Name': '100% Fed up',\n",
    "#   'MBFC URL': 'https://mediabiasfactcheck.com/100-percent-fed-up/',\n",
    "#   'Domain': '100percentfedup.com',\n",
    "#   'Bias': 'Questionable',\n",
    "#   'Factual Reporting': 'Low',\n",
    "#   'Country': 'USA',\n",
    "#   'Credibility': 'High'\n",
    "\n",
    "import json\n",
    "import pandas as pd\n",
    "from collections import Counter\n",
    "\n",
    "df = pd.read_json('mbfc/all_mbfc.json')\n",
    "aus = df[df['Country'] == 'Australia']\n",
    "can = df[df['Country'] == 'Canada']\n",
    "ire = df[df['Country'] == 'Ireland']"
   ]
  },
  {
   "cell_type": "code",
   "execution_count": null,
   "id": "e22dd921",
   "metadata": {},
   "outputs": [],
   "source": []
  }
 ],
 "metadata": {
  "kernelspec": {
   "display_name": "Python 3 (ipykernel)",
   "language": "python",
   "name": "python3"
  },
  "language_info": {
   "codemirror_mode": {
    "name": "ipython",
    "version": 3
   },
   "file_extension": ".py",
   "mimetype": "text/x-python",
   "name": "python",
   "nbconvert_exporter": "python",
   "pygments_lexer": "ipython3",
   "version": "3.11.3"
  }
 },
 "nbformat": 4,
 "nbformat_minor": 5
}
