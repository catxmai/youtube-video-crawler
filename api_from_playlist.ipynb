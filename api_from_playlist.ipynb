{
 "cells": [
  {
   "cell_type": "code",
   "execution_count": null,
   "id": "1a78c90c",
   "metadata": {},
   "outputs": [],
   "source": [
    "import googleapiclient.discovery\n",
    "import googleapiclient.errors\n",
    "\n",
    "from keys import YOUTUBE_API_KEY\n",
    "from typing import Dict, Any\n",
    "\n",
    "api_service_name= \"youtube\"\n",
    "api_version = \"v3\"\n",
    "\n",
    "youtube = googleapiclient.discovery.build(api_service_name,\n",
    "                                          api_version,\n",
    "                                          developerKey=YOUTUBE_API_KEY)\n",
    "\n",
    "def get_playlist(playlist_id: str, is_first_request=True, next_page_token=None) -> Dict[str, Any]:\n",
    "    \n",
    "    max_results = \"50\"\n",
    "\n",
    "    if is_first_request:\n",
    "        response = youtube.playlistItems().list(\n",
    "            part = \"snippet\",\n",
    "            playlistId = playlist_id,\n",
    "            maxResults = max_results\n",
    "        ).execute()\n",
    "    else:\n",
    "         response = youtube.playlistItems().list(\n",
    "            part = \"snippet\",\n",
    "            playlistId = playlist_id,\n",
    "            maxResults = max_results,\n",
    "            pageToken = next_page_token\n",
    "             \n",
    "        ).execute()\n",
    "        \n",
    "    \n",
    "    return response\n",
    "    "
   ]
  },
  {
   "cell_type": "code",
   "execution_count": null,
   "id": "b4ab7d53",
   "metadata": {},
   "outputs": [],
   "source": [
    "# 4 playlists of top most popular videos on youtube of all time\n",
    "# https://www.youtube.com/playlist?list=PLirAqAtl_h2r5g8xGajEwdXd3x1sZh8hC\n",
    "\n",
    "playlist_id_list = [\"PLirAqAtl_h2r5g8xGajEwdXd3x1sZh8hC\", \"PLirAqAtl_h2o4xCWaBsDH3BKNQs8YqLCL\",\n",
    "                    \"PLirAqAtl_h2p57Njt3QJDtwxAPZENJrIp\", \"PLirAqAtl_h2rTbOXU2Oc-7WBBHmFrnyUC\"]\n",
    "res_item_list = []\n",
    "\n",
    "for playlist_id in playlist_id_list:\n",
    "    \n",
    "    response = get_playlist(playlist_id)\n",
    "    res_item_list.extend(response.get('items'))\n",
    "    print(playlist_id)\n",
    "    \n",
    "    while ('nextPageToken' in response):\n",
    "        next_page_token = response.get('nextPageToken')\n",
    "        print(f\"current len: {len(res_item_list)}\")\n",
    "        response = get_playlist(playlist_id,\n",
    "                                is_first_request = False,\n",
    "                                next_page_token = next_page_token)\n",
    "        res_item_list.extend(response.get('items'))"
   ]
  },
  {
   "cell_type": "code",
   "execution_count": null,
   "id": "cd186136",
   "metadata": {},
   "outputs": [],
   "source": [
    "import json\n",
    "\n",
    "# dump raw data\n",
    "with open('all_raw_data.json', 'w') as f:\n",
    "    json.dump(res_item_list, f, ensure_ascii=True)\n",
    "    \n",
    "file = open('all_raw_data.json')\n",
    "data = json.load(file)\n",
    "data[0]"
   ]
  },
  {
   "cell_type": "code",
   "execution_count": null,
   "id": "e262674f",
   "metadata": {},
   "outputs": [],
   "source": [
    "# create csv\n",
    "import pandas as pd\n",
    "\n",
    "df_items = []\n",
    "\n",
    "for res in res_item_list:\n",
    "    video_id = res['snippet']['resourceId']['videoId']\n",
    "    video_url = 'https://www.youtube.com/watch?v=' + video_id\n",
    "    video_title = res['snippet']['title']\n",
    "    \n",
    "    try:\n",
    "        channel_title = res['snippet']['videoOwnerChannelTitle']\n",
    "    except KeyError:\n",
    "        channel_title = ''\n",
    "        \n",
    "    try:\n",
    "        channel_id = res['snippet']['videoOwnerChannelId']\n",
    "    except KeyError:\n",
    "        channel_id = ''\n",
    "    \n",
    "    df_items.append((video_id, video_url, video_title,\n",
    "                     channel_title, channel_id))\n",
    "    \n",
    "df = pd.DataFrame(df_items, columns = ['video_id', 'video_url', 'video_title',\n",
    "                                       'channel_title', 'channel_id'])\n",
    "                  "
   ]
  },
  {
   "cell_type": "code",
   "execution_count": null,
   "id": "fb1e10d3",
   "metadata": {},
   "outputs": [],
   "source": [
    "from collections import Counter\n",
    "\n",
    "Counter(df['video_title'])"
   ]
  },
  {
   "cell_type": "code",
   "execution_count": null,
   "id": "dc651f98",
   "metadata": {},
   "outputs": [],
   "source": [
    "df.drop_duplicates(subset=['video_id'], inplace=True)\n",
    "df = df[(df['video_title'] != 'Private video') & (df['video_title'] != 'Deleted video')]\n",
    "df = df.reset_index(drop=True)\n",
    "df.to_csv('most_popular_videos/most_popular_1999.csv', index=False)"
   ]
  }
 ],
 "metadata": {
  "kernelspec": {
   "display_name": "Python 3 (ipykernel)",
   "language": "python",
   "name": "python3"
  },
  "language_info": {
   "codemirror_mode": {
    "name": "ipython",
    "version": 3
   },
   "file_extension": ".py",
   "mimetype": "text/x-python",
   "name": "python",
   "nbconvert_exporter": "python",
   "pygments_lexer": "ipython3",
   "version": "3.11.3"
  }
 },
 "nbformat": 4,
 "nbformat_minor": 5
}
